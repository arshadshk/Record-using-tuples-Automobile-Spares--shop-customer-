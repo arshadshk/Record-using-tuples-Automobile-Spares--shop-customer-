{
 "cells": [
  {
   "cell_type": "code",
   "execution_count": 72,
   "metadata": {},
   "outputs": [],
   "source": [
    "from collections import namedtuple"
   ]
  },
  {
   "cell_type": "code",
   "execution_count": 75,
   "metadata": {},
   "outputs": [],
   "source": [
    "shop = namedtuple('SHOP',['Name_Of_Product_SENSOR_','In_Stock'])\n",
    "customer = namedtuple('CUSTOMER',['Name_Of_Product','Number_of_Product'])"
   ]
  },
  {
   "cell_type": "code",
   "execution_count": 76,
   "metadata": {},
   "outputs": [],
   "source": [
    "shop_rack_1  = shop('Airbag sensors', 7)\n",
    "shop_rack_2  = shop('Camshaft position sensor',8 )\n",
    "shop_rack_3  = shop('Crankshaft position sensor',0 )\n",
    "shop_rack_4  = shop('Coolant temperature sensor',1 )\n",
    "shop_rack_5  = shop('Fuel level sensor',4 )\n",
    "shop_rack_6  = shop('Fuel pressure sensor',7 )\n",
    "shop_rack_7  = shop('Knock sensor',2)\n",
    "shop_rack_8  = shop('Light sensor',3 )\n",
    "shop_rack_9  = shop('MAP sensor' ,2)\n",
    "shop_rack_10  = shop('Mass airflow sensor',3 )\n",
    "shop_rack_11  = shop('Oil level sensor',0 )\n",
    "shop_rack_12  = shop('Oil pressure sensor',8 )\n",
    "shop_rack_13  = shop('Oxygen sensor (o2)',4 )\n",
    "shop_rack_14  = shop('Throttle position sensor',10 )\n",
    "shop_rack_15  = shop('speed of meter sensor',12 )"
   ]
  },
  {
   "cell_type": "code",
   "execution_count": 77,
   "metadata": {},
   "outputs": [],
   "source": [
    "customer_1 = customer('Camshaft position sensor',8 )\n",
    "customer_2= customer('Light sensor',3 )\n",
    "customer_3= customer('Fuel level sensor',4 )\n",
    "customer_4= customer('Mass airflow sensor',3 )\n",
    "customer_5= customer('Throttle position sensor',10 )\n",
    "customer_6= customer('Fuel level sensor',4 )\n",
    "customer_7= customer('Throttle position sensor',10 )\n",
    "customer_8= customer('Mass airflow sensor',3 )\n",
    "customer_9= customer('Fuel level sensor',4 )\n",
    "customer_10= customer('Light sensor',3 )\n"
   ]
  },
  {
   "cell_type": "code",
   "execution_count": 78,
   "metadata": {},
   "outputs": [],
   "source": [
    "shop_list = [shop_rack_1,shop_rack_2,shop_rack_3,shop_rack_4,shop_rack_5,shop_rack_6,shop_rack_7,\n",
    "                   shop_rack_8,shop_rack_9,shop_rack_10,shop_rack_11,shop_rack_12,shop_rack_13,shop_rack_14]"
   ]
  },
  {
   "cell_type": "code",
   "execution_count": 79,
   "metadata": {},
   "outputs": [],
   "source": [
    "customer_list=[customer_1,customer_2,customer_3,customer_4,\n",
    "                customer_5,customer_6,customer_7,customer_8,customer_9,customer_10]\n"
   ]
  },
  {
   "cell_type": "code",
   "execution_count": 80,
   "metadata": {},
   "outputs": [
    {
     "name": "stdout",
     "output_type": "stream",
     "text": [
      "Enter the customer number4\n",
      "shop_rack 14 SHOP(Name_Of_Product_SENSOR_='Throttle position sensor', In_Stock=10)\n"
     ]
    }
   ],
   "source": [
    "# Going in Advance, program will ask the user for which user do you want to get information.\n",
    "# Once the customer no. is entered it will print the rack no. in which particular product is available with Instock.\n",
    "#for accesing the product customer_3 seeks is in which rack\n",
    "x=input('Enter the customer number')\n",
    "x=int(x)\n",
    "y=customer_list[x][0]\n",
    "z=customer_list[x][1]\n",
    "\n",
    "for i in range(0,14):\n",
    "    if shop_list[i][0]==y and shop_list[i][1]>=z:\n",
    "        print('shop_rack',i+1,shop_list[i])\n",
    "    "
   ]
  },
  {
   "cell_type": "code",
   "execution_count": 71,
   "metadata": {},
   "outputs": [
    {
     "name": "stdout",
     "output_type": "stream",
     "text": [
      "Enter the customer number6\n",
      "shop_rack 14 SHOP(Name_Of_Product='Throttle position sensor', In_Stock=10)\n"
     ]
    }
   ],
   "source": []
  },
  {
   "cell_type": "code",
   "execution_count": null,
   "metadata": {},
   "outputs": [],
   "source": []
  }
 ],
 "metadata": {
  "kernelspec": {
   "display_name": "Python 3",
   "language": "python",
   "name": "python3"
  },
  "language_info": {
   "codemirror_mode": {
    "name": "ipython",
    "version": 3
   },
   "file_extension": ".py",
   "mimetype": "text/x-python",
   "name": "python",
   "nbconvert_exporter": "python",
   "pygments_lexer": "ipython3",
   "version": "3.6.5"
  }
 },
 "nbformat": 4,
 "nbformat_minor": 2
}
